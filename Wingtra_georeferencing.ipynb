{
 "cells": [
  {
   "cell_type": "code",
   "execution_count": 1,
   "id": "222af72b-3f7e-495f-a394-251f95e6b8ca",
   "metadata": {},
   "outputs": [],
   "source": [
    "import os, glob, csv, statistics, math, numpy as np, exifread\n",
    "from osgeo import gdal, osr\n",
    "import geopandas as gpd\n",
    "from shapely.geometry import Point, Polygon\n",
    "import pandas as pd\n",
    "from PIL import Image, ExifTags\n",
    "import cameratransform as ct\n",
    "\n",
    "base_dir = r\"C:\\Users\\gdlarsen\\Documents\\UAS_survey-JHI_WE_S2\""
   ]
  },
  {
   "cell_type": "code",
   "execution_count": 2,
   "id": "474bcd62-0651-47d3-b5a9-610f752801b7",
   "metadata": {},
   "outputs": [],
   "source": [
    "# create a class that stores important photogrammetry parameters\n",
    "# the only ones that aren't available in Sony metadata are sensor width\n",
    "class Camera:\n",
    "    def __init__(self, name, sensorW, focalL, imageW, imageH):\n",
    "        # name, focal length in mm\n",
    "        self.name, self.fl = name, focalL\n",
    "        # sensor width, height, diagonal in mm\n",
    "        self.sw, self.sh = sensorW, (imageH/imageW)*sensorW\n",
    "        self.sd = math.hypot(sensorW, self.sh)\n",
    "        # image width, height, diagonal in pixels\n",
    "        self.imw, self.imh, self.imd = imageW, imageH, math.hypot(imageW, imageH)\n",
    "        # angle of view width, heigh, diagonal in degrees\n",
    "        self.aovw, self.aovh, self.aovd = math.degrees(2*math.atan(sensorW/(2*focalL))), math.degrees(2*math.atan(self.sh/(2*focalL))), math.degrees(2*math.atan(self.sd/(2*focalL)))\n",
    "\n",
    "Sony_a6100 = Camera('Sony a6100', 23.5, 20, 6000, 4000)"
   ]
  },
  {
   "cell_type": "code",
   "execution_count": 3,
   "id": "e1e0b695-0605-4e1b-80cf-34d927a30755",
   "metadata": {},
   "outputs": [],
   "source": [
    "# this function scrapes chunks of metadata for the Sony a6100\n",
    "# it's the most I could find using native python methods\n",
    "# (i.e. not calling ExifTool or anything else in teh background)\n",
    "\n",
    "def scrape_metadata(img, lighting_metadata=True, gps_metadata=True, imu_metadata=True):\n",
    "    metadata_package = {}\n",
    "    with Image.open(img) as im:\n",
    "        exif = im.getexif()\n",
    "        exif_data = exif.get_ifd(0x8769)\n",
    "        if lighting_metadata==True:\n",
    "            lighting_metadata={}\n",
    "            for tag_id in exif_data:\n",
    "                tag = ExifTags.TAGS.get(tag_id, tag_id)\n",
    "                content = [exif_data.get(tag_id)]\n",
    "                if type(content).__name__ == 'IFDRational':\n",
    "                    content = float(content)\n",
    "                lighting_metadata[tag] = content\n",
    "            del lighting_metadata['MakerNote'], lighting_metadata['FlashPixVersion'], lighting_metadata['FileSource'], lighting_metadata['SceneType'], lighting_metadata['ComponentsConfiguration']\n",
    "            metadata_package.update(lighting_metadata)\n",
    "        if gps_metadata==True:\n",
    "            gps_metadata = {}\n",
    "            for tag_id in ExifTags.IFD:\n",
    "                ifd = exif.get_ifd(tag_id)\n",
    "                if tag_id == ExifTags.IFD.GPSInfo:\n",
    "                    resolve = ExifTags.GPSTAGS\n",
    "                    for k, v in ifd.items():\n",
    "                        tag = resolve.get(k, k)\n",
    "                        gps_metadata[tag] = [v]\n",
    "            del gps_metadata['GPSVersionID'], gps_metadata['GPSAltitudeRef']\n",
    "            gps_metadata['GPSLongitudeDD'] = [(float(gps_metadata['GPSLongitude'][0][0]) + float(gps_metadata['GPSLongitude'][0][1])/60 + float(gps_metadata['GPSLongitude'][0][2])/(60*60))*(-1 if gps_metadata['GPSLongitudeRef'][0] == 'W' else 1)]\n",
    "            gps_metadata['GPSLatitudeDD'] = [(float(gps_metadata['GPSLatitude'][0][0]) + float(gps_metadata['GPSLatitude'][0][1])/60 + float(gps_metadata['GPSLatitude'][0][2])/(60*60))*(-1 if gps_metadata['GPSLatitudeRef'][0] == 'S' else 1)]\n",
    "            metadata_package.update(gps_metadata)\n",
    "        if imu_metadata==True:\n",
    "            xmpdata = im.getxmp()['xmpmeta']['RDF']['Description']\n",
    "            imu_metadata = xmpdata\n",
    "            metadata_package.update(imu_metadata)\n",
    "    return metadata_package"
   ]
  },
  {
   "cell_type": "code",
   "execution_count": 4,
   "id": "d33a9f7f-2ec2-448b-8565-7a1b95dcfd7f",
   "metadata": {},
   "outputs": [],
   "source": [
    "# This sections reads the jpgs and extracts the metadata into a table\n",
    "img_list = glob.glob(f\"{base_dir}//*OUTPUT//*.jpg\", recursive=True)\n",
    "\n",
    "# img_list = img_list[355:365] # for demo\n",
    "\n",
    "df = pd.DataFrame()\n",
    "for img in img_list:\n",
    "    image_name = img.split(\"\\\\\")[-1].split(\".\")[0]\n",
    "    metadata = scrape_metadata(img)\n",
    "    sensor_size = Sony_a6100.sw, Sony_a6100.sh\n",
    "    metadict = {'ImageName': [image_name], 'ImagePath': [img]}|metadata|{'SensorSize': [sensor_size]}\n",
    "    df = pd.concat([df, pd.DataFrame.from_dict(metadict)])"
   ]
  },
  {
   "cell_type": "code",
   "execution_count": 5,
   "id": "3eb69d8d-798a-4b47-bf73-671755f4997d",
   "metadata": {},
   "outputs": [
    {
     "name": "stdout",
     "output_type": "stream",
     "text": [
      "using log file C:\\Users\\gdlarsen\\Documents\\UAS_survey-JHI_WE_S2//FLIGHT RECORD\\JHI_120624_ext_S2_F1 Flight 01.csv\n",
      "using altitude offset of -11.073250000000002 meters\n"
     ]
    }
   ],
   "source": [
    "# Altitude is notoriously inaccurate, whether from GPS or drone.\n",
    "# In this case, from inspecting photos, it's clear that the drone\n",
    "# was closer to the water than GPS estimated\n",
    "# so we're using an offset to approximate the drone altitude instead\n",
    "\n",
    "# read the altitude from the metadata table\n",
    "altitude_from_photos = statistics.median([float(i) for i in df['GPSAltitude']])\n",
    "\n",
    "# read the altitude from the CSV flight log\n",
    "csv_list = glob.glob(f\"{base_dir}//FLIGHT RECORD//*.csv\", recursive=True)\n",
    "print(f\"using log file {csv_list[0]}\")\n",
    "csv_df = pd.read_csv(csv_list[0])\n",
    "altitude_from_drone = statistics.median(csv_df['alt'])\n",
    "\n",
    "# calculate the altitude offset\n",
    "altitude_offset = altitude_from_drone-altitude_from_photos\n",
    "print(f\"using altitude offset of {altitude_offset} meters\")"
   ]
  },
  {
   "cell_type": "code",
   "execution_count": 6,
   "id": "f58ba810-35b9-46fe-92e7-a5fd9160ba82",
   "metadata": {},
   "outputs": [],
   "source": [
    "# This sections reads uses the metadata to generate GCPs for image projection\n",
    "\n",
    "# Median GPSAltitude from metadata - median altitutde from flight log\n",
    "# pulling metadata should be easy enough, maybe make a first step that assembles the table\n",
    "# to be used with the footprints output\n",
    "# but extracting from the ulog is a more complicated issue\n",
    "\n",
    "df2 = pd.DataFrame()\n",
    "\n",
    "for index, metadata in df.iterrows():\n",
    "    # queue up important parameters from the metadata\n",
    "    f = metadata['FocalLength']\n",
    "    sensor_size = metadata['SensorSize']\n",
    "    image_size = metadata['ExifImageWidth'], metadata['ExifImageHeight']\n",
    "    lat, lon = metadata['GPSLatitudeDD'], metadata['GPSLongitudeDD']\n",
    "    alt = float(metadata['GPSAltitude'])+altitude_offset\n",
    "    yaw, pitch, roll = float(metadata['Yaw']), float(metadata['Pitch']), float(metadata['Roll'])\n",
    "\n",
    "    # use cameratransform package to project image based on parameters\n",
    "    cam = ct.Camera(ct.RectilinearProjection(focallength_mm = f, sensor = sensor_size, image = image_size),\n",
    "                    ct.SpatialOrientation(elevation_m = alt, tilt_deg = pitch, roll_deg = roll, heading_deg = yaw, \n",
    "                                        pos_x_m = 0, pos_y_m = 0))\n",
    "    \n",
    "    # use cameratransform package to assign spatial values to image locations\n",
    "    cam.setGPSpos(lat, lon, alt)\n",
    "    coords = [cam.gpsFromImage([0, 0])[0:2], cam.gpsFromImage([image_size[0] - 1, 0])[0:2], \n",
    "                                cam.gpsFromImage([image_size[0] - 1, image_size[1] - 1])[0:2], cam.gpsFromImage([0, image_size[1] - 1])[0:2]]\n",
    "    coords = [i.tolist() for i in coords] # necessary data conversion for later use in gdal's GCP tool\n",
    "    img_w, img_h = image_size[0], image_size[1]\n",
    "    # 1=top left, 2=top right, 3=bottom right, 4=bottom left\n",
    "    # 4-8 are midpoints of quadralateral, to enable 2nd order transformation\n",
    "    GCP_list = [[coords[0][1], coords[0][0], 0, 0, 0],\n",
    "                [coords[1][1], coords[1][0], 0, img_w-1, 0],\n",
    "                [coords[2][1], coords[2][0], 0, img_w-1, img_h-1],\n",
    "                [coords[3][1], coords[3][0], 0, 0, img_h-1],\n",
    "                [(coords[0][1]+coords[1][1])/2, (coords[0][0]+coords[1][0])/2, 0, (img_w-1)/2, 0],\n",
    "                [(coords[1][1]+coords[2][1])/2, (coords[1][0]+coords[2][0])/2, 0, img_w-1, (img_h-1)/2],\n",
    "                [(coords[2][1]+coords[3][1])/2, (coords[2][0]+coords[3][0])/2, 0, (img_w-1)/2, img_h-1],\n",
    "                [(coords[3][1]+coords[0][1])/2, (coords[3][0]+coords[0][0])/2, 0, 0, (img_h-1)/2]]\n",
    "    # bundle everything into a dictionary then append to dataframe\n",
    "    metadict = {'ImageName': metadata['ImageName'], 'GCPList': [GCP_list], 'geometry': [Polygon([i[::-1] for i in coords])]}\n",
    "    df2 = pd.concat([df2, pd.DataFrame.from_dict(metadict)])\n",
    "\n",
    "gdf = gpd.GeoDataFrame(pd.merge(df, df2, on='ImageName'), crs=\"EPSG:4326\")"
   ]
  },
  {
   "cell_type": "code",
   "execution_count": 7,
   "id": "50459c82-e028-4262-bd6b-2c3abc5493f2",
   "metadata": {},
   "outputs": [
    {
     "name": "stderr",
     "output_type": "stream",
     "text": [
      "C:\\Users\\gdlarsen\\AppData\\Local\\Temp\\1\\ipykernel_44060\\1330382994.py:11: UserWarning: Column names longer than 10 characters will be truncated when saved to ESRI Shapefile.\n",
      "  gdf.to_file(out_path)\n",
      "C:\\Users\\gdlarsen\\AppData\\Local\\miniforge3\\envs\\spatial\\Lib\\site-packages\\pyogrio\\raw.py:723: RuntimeWarning: Value '[[-137.06432590581912, 58.86442551137297, 0, 0, 0], [-137.06541079307658, 58.864872730278364, 0, 5999, 0], [-137.06483195029875, 58.865243035581145, 0, 5999, 3999], [-137.06375668445438, 58.864799812061726, 0, 0, 3999], [-137.06486834944786, 58.86464912082567, 0, 2999.5, 0], [-137.06512137168767, 58.865057882929754, 0, 5999, 1999.5], [-137.06429431737655, 58.86502142382143, 0, 2999.5, 3999], [-137.06404129513675, 58.864612661717345, 0, 0, 1999.5]]' of field GCPList has been truncated to 254 characters.  This warning will not be emitted any more for that layer.\n",
      "  ogr_write(\n"
     ]
    }
   ],
   "source": [
    "# This section outputs the geodataframe to a shapefile.\n",
    "# Note that metadata field names get truncated to 10 characters\n",
    "\n",
    "# This section suppresses those warnings\n",
    "import warnings\n",
    "warnings.filterwarnings(\"ignore\", message=\"Normalized/laundered field name\")\n",
    "\n",
    "out_dir = f\"{base_dir}\\\\Shapefiles\\\\\"\n",
    "os.makedirs(out_dir, exist_ok = True)\n",
    "out_path = f\"{out_dir}Image_footprints.shp\"\n",
    "gdf.to_file(out_path)"
   ]
  },
  {
   "cell_type": "code",
   "execution_count": null,
   "id": "068f033b-e9b6-4fcf-bf2b-b3f5ed1747c8",
   "metadata": {},
   "outputs": [
    {
     "name": "stdout",
     "output_type": "stream",
     "text": [
      "Completed file 10 out of 1685\n",
      "Completed file 20 out of 1685\n",
      "Completed file 30 out of 1685\n",
      "Completed file 40 out of 1685\n",
      "Completed file 50 out of 1685\n",
      "Completed file 60 out of 1685\n",
      "Completed file 70 out of 1685\n"
     ]
    }
   ],
   "source": [
    "img_dir = f\"{base_dir}\\\\OUTPUT\\\\\"\n",
    "out_dir = f\"{base_dir}\\\\GeoreferencedTiffs\\\\\"\n",
    "os.makedirs(out_dir, exist_ok = True)\n",
    "\n",
    "gdal.UseExceptions()\n",
    "\n",
    "for index, record in gdf.iterrows():\n",
    "    \n",
    "    # Open the output file for writing for writing:\n",
    "    ds = gdal.Open(record['ImagePath'])\n",
    "    if ds is None:\n",
    "        print(f\"Could not open image: {record['ImagePath']}\")\n",
    "    # Set spatial reference:\n",
    "    sr = osr.SpatialReference()\n",
    "    sr.ImportFromEPSG(4326)\n",
    "\n",
    "    # import GCP corners - there's got to be a better way to unpack i, but lists get rejected.\n",
    "    gcps = [gdal.GCP(i[0], i[1], i[2], i[3], i[4]) for i in record['GCPList']]\n",
    "\n",
    "    # Apply the GCPs to the open output file then warp it\n",
    "    ds.SetGCPs(gcps, sr.ExportToWkt())\n",
    "\n",
    "    kwargs = {'format': 'GTiff', 'polynomialOrder':2, 'srcNodata': '0,0,0', 'dstNodata': 'nodata'}\n",
    "    ds = gdal.Warp(f\"{out_dir}{record['ImageName']}_GeoRef.tif\", ds, **kwargs)\n",
    "    # Clear the variable (not sure if necessary, but good form)\n",
    "    ds = None\n",
    "    # counter, just because it can be a long process\n",
    "    if (index+1) % 10 == 0:\n",
    "        print(f\"Completed file {index+1} out of {len(df)+1}\")\n",
    "print(\"finished processing images\")"
   ]
  },
  {
   "cell_type": "code",
   "execution_count": null,
   "id": "49fe3b7a-e311-43b4-86fe-dfcc0cbc53eb",
   "metadata": {},
   "outputs": [],
   "source": []
  }
 ],
 "metadata": {
  "kernelspec": {
   "display_name": "Python 3 (ipykernel)",
   "language": "python",
   "name": "python3"
  },
  "language_info": {
   "codemirror_mode": {
    "name": "ipython",
    "version": 3
   },
   "file_extension": ".py",
   "mimetype": "text/x-python",
   "name": "python",
   "nbconvert_exporter": "python",
   "pygments_lexer": "ipython3",
   "version": "3.12.7"
  }
 },
 "nbformat": 4,
 "nbformat_minor": 5
}
